{
  "nbformat": 4,
  "nbformat_minor": 0,
  "metadata": {
    "colab": {
      "provenance": [],
      "include_colab_link": true
    },
    "kernelspec": {
      "name": "python3",
      "display_name": "Python 3"
    }
  },
  "cells": [
    {
      "cell_type": "markdown",
      "metadata": {
        "id": "view-in-github",
        "colab_type": "text"
      },
      "source": [
        "<a href=\"https://colab.research.google.com/github/Deveshvishwakarma004/ML-Lab/blob/main/Autoencoders.ipynb\" target=\"_parent\"><img src=\"https://colab.research.google.com/assets/colab-badge.svg\" alt=\"Open In Colab\"/></a>"
      ]
    },
    {
      "cell_type": "code",
      "metadata": {
        "id": "WQl8TSiHSOCU"
      },
      "source": [
        "from keras.layers import Input, Dense\n",
        "from keras.models import Model\n",
        "\n",
        "# this is the size of our encoded representations\n",
        "encoding_dim = 128  # 32 floats -> compression of factor 24.5, assuming the input is 784 floats\n",
        "\n",
        "# this is our input placeholder\n",
        "input_img = Input(shape=(784,))\n",
        "# \"encoded\" is the encoded representation of the input\n",
        "encoded = Dense(encoding_dim, activation='relu')(input_img)\n",
        "# \"decoded\" is the lossy reconstruction of the input\n",
        "decoded = Dense(784, activation='sigmoid')(encoded)\n",
        "\n",
        "# this model maps an input to its reconstruction\n",
        "autoencoder = Model(input_img, decoded)"
      ],
      "execution_count": 1,
      "outputs": []
    },
    {
      "cell_type": "code",
      "metadata": {
        "id": "Gq173u9YSTvU"
      },
      "source": [
        "# this model maps an input to its encoded representation\n",
        "encoder = Model(input_img, encoded)"
      ],
      "execution_count": 2,
      "outputs": []
    },
    {
      "cell_type": "code",
      "metadata": {
        "id": "q3K4BB0VSbfD"
      },
      "source": [
        "# create a placeholder for an encoded (32-dimensional) input\n",
        "encoded_input = Input(shape=(encoding_dim,))\n",
        "# retrieve the last layer of the autoencoder model\n",
        "decoder_layer = autoencoder.layers[-1]\n",
        "# create the decoder model\n",
        "decoder = Model(encoded_input, decoder_layer(encoded_input))"
      ],
      "execution_count": 3,
      "outputs": []
    },
    {
      "cell_type": "code",
      "metadata": {
        "id": "txJYhPm1SfLq"
      },
      "source": [
        "autoencoder.compile(optimizer='RMSprop', loss='binary_crossentropy')"
      ],
      "execution_count": 4,
      "outputs": []
    },
    {
      "cell_type": "code",
      "metadata": {
        "id": "ox4PzfObSiQd",
        "colab": {
          "base_uri": "https://localhost:8080/"
        },
        "outputId": "b80ffd60-acb0-48b5-b5e7-7eac9df71ac7"
      },
      "source": [
        "from keras.datasets import mnist\n",
        "import numpy as np\n",
        "(x_train, _), (x_test, _) = mnist.load_data()"
      ],
      "execution_count": 5,
      "outputs": [
        {
          "output_type": "stream",
          "name": "stdout",
          "text": [
            "Downloading data from https://storage.googleapis.com/tensorflow/tf-keras-datasets/mnist.npz\n",
            "11490434/11490434 [==============================] - 0s 0us/step\n"
          ]
        }
      ]
    },
    {
      "cell_type": "code",
      "metadata": {
        "id": "5riYiwmoSlDz",
        "colab": {
          "base_uri": "https://localhost:8080/"
        },
        "outputId": "312aaddf-1710-4982-853c-4d0210fb19d2"
      },
      "source": [
        "x_train = x_train.astype('float32') / 255.\n",
        "x_test = x_test.astype('float32') / 255.\n",
        "x_train = x_train.reshape((len(x_train), np.prod(x_train.shape[1:])))\n",
        "x_test = x_test.reshape((len(x_test), np.prod(x_test.shape[1:])))\n",
        "print (x_train.shape)\n",
        "print (x_test.shape)"
      ],
      "execution_count": 6,
      "outputs": [
        {
          "output_type": "stream",
          "name": "stdout",
          "text": [
            "(60000, 784)\n",
            "(10000, 784)\n"
          ]
        }
      ]
    },
    {
      "cell_type": "code",
      "metadata": {
        "id": "zzkP2dNISsfq",
        "colab": {
          "base_uri": "https://localhost:8080/"
        },
        "outputId": "91394852-aa2d-4f71-d6cc-1970e2d95245"
      },
      "source": [
        "autoencoder.fit(x_train, x_train,\n",
        "                epochs=12,\n",
        "                batch_size=144,\n",
        "                shuffle=True,\n",
        "                validation_data=(x_test, x_test))"
      ],
      "execution_count": 7,
      "outputs": [
        {
          "output_type": "stream",
          "name": "stdout",
          "text": [
            "Epoch 1/12\n",
            "417/417 [==============================] - 5s 9ms/step - loss: 0.2388 - val_loss: 0.1757\n",
            "Epoch 2/12\n",
            "417/417 [==============================] - 5s 11ms/step - loss: 0.1578 - val_loss: 0.1416\n",
            "Epoch 3/12\n",
            "417/417 [==============================] - 5s 11ms/step - loss: 0.1330 - val_loss: 0.1230\n",
            "Epoch 4/12\n",
            "417/417 [==============================] - 4s 9ms/step - loss: 0.1178 - val_loss: 0.1103\n",
            "Epoch 5/12\n",
            "417/417 [==============================] - 5s 11ms/step - loss: 0.1071 - val_loss: 0.1014\n",
            "Epoch 6/12\n",
            "417/417 [==============================] - 4s 8ms/step - loss: 0.0995 - val_loss: 0.0952\n",
            "Epoch 7/12\n",
            "417/417 [==============================] - 4s 9ms/step - loss: 0.0943 - val_loss: 0.0909\n",
            "Epoch 8/12\n",
            "417/417 [==============================] - 5s 11ms/step - loss: 0.0906 - val_loss: 0.0879\n",
            "Epoch 9/12\n",
            "417/417 [==============================] - 4s 8ms/step - loss: 0.0879 - val_loss: 0.0855\n",
            "Epoch 10/12\n",
            "417/417 [==============================] - 4s 9ms/step - loss: 0.0858 - val_loss: 0.0837\n",
            "Epoch 11/12\n",
            "417/417 [==============================] - 4s 10ms/step - loss: 0.0841 - val_loss: 0.0822\n",
            "Epoch 12/12\n",
            "417/417 [==============================] - 4s 10ms/step - loss: 0.0827 - val_loss: 0.0810\n"
          ]
        },
        {
          "output_type": "execute_result",
          "data": {
            "text/plain": [
              "<keras.src.callbacks.History at 0x787ba82233a0>"
            ]
          },
          "metadata": {},
          "execution_count": 7
        }
      ]
    },
    {
      "cell_type": "code",
      "metadata": {
        "id": "OUr7fRVwSwHY",
        "colab": {
          "base_uri": "https://localhost:8080/"
        },
        "outputId": "43b61ac3-73b7-47c3-df50-0d1a106a97bf"
      },
      "source": [
        "# encode and decode some digits\n",
        "# note that we take them from the *test* set\n",
        "encoded_imgs = encoder.predict(x_test)\n",
        "decoded_imgs = decoder.predict(encoded_imgs)"
      ],
      "execution_count": 8,
      "outputs": [
        {
          "output_type": "stream",
          "name": "stdout",
          "text": [
            "313/313 [==============================] - 1s 1ms/step\n",
            "313/313 [==============================] - 1s 2ms/step\n"
          ]
        }
      ]
    },
    {
      "cell_type": "code",
      "metadata": {
        "id": "HqkoJw8xSzH1",
        "colab": {
          "base_uri": "https://localhost:8080/",
          "height": 252
        },
        "outputId": "40cbdf1b-f4a5-4b5f-ca0a-4dbfd155c542"
      },
      "source": [
        "# use Matplotlib (don't ask)\n",
        "import matplotlib.pyplot as plt\n",
        "\n",
        "n = 10  # how many digits we will display\n",
        "plt.figure(figsize=(20, 4))\n",
        "for i in range(n):\n",
        "    # display original\n",
        "    ax = plt.subplot(2, n, i + 1)\n",
        "    plt.imshow(x_test[i].reshape(28, 28))\n",
        "    plt.gray()\n",
        "    ax.get_xaxis().set_visible(False)\n",
        "    ax.get_yaxis().set_visible(False)\n",
        "\n",
        "    # display reconstruction\n",
        "    ax = plt.subplot(2, n, i + 1 + n)\n",
        "    plt.imshow(decoded_imgs[i].reshape(28, 28))\n",
        "    plt.gray()\n",
        "    ax.get_xaxis().set_visible(False)\n",
        "    ax.get_yaxis().set_visible(False)\n",
        "plt.show()"
      ],
      "execution_count": 9,
      "outputs": [
        {
          "output_type": "display_data",
          "data": {
            "text/plain": [
              "<Figure size 2000x400 with 20 Axes>"
            ],
            "image/png": "[encoded data removed]"
          },
          "metadata": {}
        }
      ]
    },
    {
      "cell_type": "code",
      "source": [
        "from keras.layers import Input, Dense\n",
        "from keras.models import Model\n",
        "\n",
        "# Define the size of the encoded representation\n",
        "encoding_dim = 32  # 32 floats -> compression of factor 24.5, assuming the input is 784 floats\n",
        "\n",
        "# Input placeholder\n",
        "input_img = Input(shape=(784,))\n",
        "\n",
        "# Encoding layers\n",
        "encoded = Dense(128, activation='relu')(input_img)\n",
        "encoded = Dense(64, activation='relu')(encoded)\n",
        "encoded = Dense(encoding_dim, activation='relu')(encoded)\n",
        "\n",
        "# Decoding layers\n",
        "decoded = Dense(64, activation='relu')(encoded)\n",
        "decoded = Dense(128, activation='relu')(decoded)\n",
        "decoded = Dense(784, activation='sigmoid')(decoded)\n",
        "\n",
        "# Autoencoder model\n",
        "autoencoder = Model(input_img, decoded)\n",
        "\n",
        "# Encoder model\n",
        "encoder = Model(input_img, encoded)\n",
        "\n",
        "# Decoder model\n",
        "encoded_input = Input(shape=(encoding_dim,))\n",
        "decoder_layer1 = autoencoder.layers[-3]\n",
        "decoder_layer2 = autoencoder.layers[-2]\n",
        "decoder_layer3 = autoencoder.layers[-1]\n",
        "decoder = Model(encoded_input, decoder_layer3(decoder_layer2(decoder_layer1(encoded_input))))\n"
      ],
      "metadata": {
        "id": "ODd0yFC1bl7l"
      },
      "execution_count": 10,
      "outputs": []
    },
    {
      "cell_type": "code",
      "source": [
        "# Compile the model\n",
        "autoencoder.compile(optimizer='adam', loss='binary_crossentropy')\n",
        "\n",
        "# Train the model\n",
        "autoencoder.fit(x_train, x_train,\n",
        "                epochs=50,\n",
        "                batch_size=256,\n",
        "                shuffle=True,\n",
        "                validation_data=(x_test, x_test))\n",
        "\n"
      ],
      "metadata": {
        "colab": {
          "base_uri": "https://localhost:8080/"
        },
        "id": "pedaPEaRcAic",
        "outputId": "ca099201-a291-4de8-86e7-d66e257d7308"
      },
      "execution_count": 11,
      "outputs": [
        {
          "output_type": "stream",
          "name": "stdout",
          "text": [
            "Epoch 1/50\n",
            "235/235 [==============================] - 5s 18ms/step - loss: 0.2526 - val_loss: 0.1721\n",
            "Epoch 2/50\n",
            "235/235 [==============================] - 6s 24ms/step - loss: 0.1529 - val_loss: 0.1362\n",
            "Epoch 3/50\n",
            "235/235 [==============================] - 4s 15ms/step - loss: 0.1313 - val_loss: 0.1244\n",
            "Epoch 4/50\n",
            "235/235 [==============================] - 4s 15ms/step - loss: 0.1222 - val_loss: 0.1175\n",
            "Epoch 5/50\n",
            "235/235 [==============================] - 5s 20ms/step - loss: 0.1166 - val_loss: 0.1126\n",
            "Epoch 6/50\n",
            "235/235 [==============================] - 4s 15ms/step - loss: 0.1123 - val_loss: 0.1093\n",
            "Epoch 7/50\n",
            "235/235 [==============================] - 4s 15ms/step - loss: 0.1090 - val_loss: 0.1062\n",
            "Epoch 8/50\n",
            "235/235 [==============================] - 4s 19ms/step - loss: 0.1062 - val_loss: 0.1039\n",
            "Epoch 9/50\n",
            "235/235 [==============================] - 4s 16ms/step - loss: 0.1043 - val_loss: 0.1032\n",
            "Epoch 10/50\n",
            "235/235 [==============================] - 4s 16ms/step - loss: 0.1027 - val_loss: 0.1013\n",
            "Epoch 11/50\n",
            "235/235 [==============================] - 4s 17ms/step - loss: 0.1015 - val_loss: 0.0998\n",
            "Epoch 12/50\n",
            "235/235 [==============================] - 4s 18ms/step - loss: 0.1004 - val_loss: 0.0990\n",
            "Epoch 13/50\n",
            "235/235 [==============================] - 4s 16ms/step - loss: 0.0993 - val_loss: 0.0979\n",
            "Epoch 14/50\n",
            "235/235 [==============================] - 4s 16ms/step - loss: 0.0984 - val_loss: 0.0971\n",
            "Epoch 15/50\n",
            "235/235 [==============================] - 5s 20ms/step - loss: 0.0975 - val_loss: 0.0962\n",
            "Epoch 16/50\n",
            "235/235 [==============================] - 4s 16ms/step - loss: 0.0966 - val_loss: 0.0954\n",
            "Epoch 17/50\n",
            "235/235 [==============================] - 3s 15ms/step - loss: 0.0959 - val_loss: 0.0954\n",
            "Epoch 18/50\n",
            "235/235 [==============================] - 5s 20ms/step - loss: 0.0952 - val_loss: 0.0938\n",
            "Epoch 19/50\n",
            "235/235 [==============================] - 4s 16ms/step - loss: 0.0946 - val_loss: 0.0935\n",
            "Epoch 20/50\n",
            "235/235 [==============================] - 4s 15ms/step - loss: 0.0940 - val_loss: 0.0929\n",
            "Epoch 21/50\n",
            "235/235 [==============================] - 5s 20ms/step - loss: 0.0934 - val_loss: 0.0921\n",
            "Epoch 22/50\n",
            "235/235 [==============================] - 4s 15ms/step - loss: 0.0929 - val_loss: 0.0917\n",
            "Epoch 23/50\n",
            "235/235 [==============================] - 4s 15ms/step - loss: 0.0924 - val_loss: 0.0912\n",
            "Epoch 24/50\n",
            "235/235 [==============================] - 4s 19ms/step - loss: 0.0919 - val_loss: 0.0909\n",
            "Epoch 25/50\n",
            "235/235 [==============================] - 4s 16ms/step - loss: 0.0914 - val_loss: 0.0903\n",
            "Epoch 26/50\n",
            "235/235 [==============================] - 4s 16ms/step - loss: 0.0910 - val_loss: 0.0902\n",
            "Epoch 27/50\n",
            "235/235 [==============================] - 4s 18ms/step - loss: 0.0906 - val_loss: 0.0896\n",
            "Epoch 28/50\n",
            "235/235 [==============================] - 4s 18ms/step - loss: 0.0902 - val_loss: 0.0893\n",
            "Epoch 29/50\n",
            "235/235 [==============================] - 4s 16ms/step - loss: 0.0899 - val_loss: 0.0889\n",
            "Epoch 30/50\n",
            "235/235 [==============================] - 4s 16ms/step - loss: 0.0897 - val_loss: 0.0892\n",
            "Epoch 31/50\n",
            "235/235 [==============================] - 5s 20ms/step - loss: 0.0893 - val_loss: 0.0884\n",
            "Epoch 32/50\n",
            "235/235 [==============================] - 4s 16ms/step - loss: 0.0890 - val_loss: 0.0881\n",
            "Epoch 33/50\n",
            "235/235 [==============================] - 4s 16ms/step - loss: 0.0887 - val_loss: 0.0888\n",
            "Epoch 34/50\n",
            "235/235 [==============================] - 5s 20ms/step - loss: 0.0885 - val_loss: 0.0877\n",
            "Epoch 35/50\n",
            "235/235 [==============================] - 4s 16ms/step - loss: 0.0882 - val_loss: 0.0878\n",
            "Epoch 36/50\n",
            "235/235 [==============================] - 4s 16ms/step - loss: 0.0880 - val_loss: 0.0872\n",
            "Epoch 37/50\n",
            "235/235 [==============================] - 5s 20ms/step - loss: 0.0878 - val_loss: 0.0872\n",
            "Epoch 38/50\n",
            "235/235 [==============================] - 4s 15ms/step - loss: 0.0876 - val_loss: 0.0870\n",
            "Epoch 39/50\n",
            "235/235 [==============================] - 4s 16ms/step - loss: 0.0874 - val_loss: 0.0867\n",
            "Epoch 40/50\n",
            "235/235 [==============================] - 5s 20ms/step - loss: 0.0872 - val_loss: 0.0866\n",
            "Epoch 41/50\n",
            "235/235 [==============================] - 4s 15ms/step - loss: 0.0870 - val_loss: 0.0864\n",
            "Epoch 42/50\n",
            "235/235 [==============================] - 4s 16ms/step - loss: 0.0868 - val_loss: 0.0863\n",
            "Epoch 43/50\n",
            "235/235 [==============================] - 4s 18ms/step - loss: 0.0867 - val_loss: 0.0862\n",
            "Epoch 44/50\n",
            "235/235 [==============================] - 4s 17ms/step - loss: 0.0864 - val_loss: 0.0859\n",
            "Epoch 45/50\n",
            "235/235 [==============================] - 4s 15ms/step - loss: 0.0863 - val_loss: 0.0858\n",
            "Epoch 46/50\n",
            "235/235 [==============================] - 4s 17ms/step - loss: 0.0861 - val_loss: 0.0855\n",
            "Epoch 47/50\n",
            "235/235 [==============================] - 4s 18ms/step - loss: 0.0860 - val_loss: 0.0853\n",
            "Epoch 48/50\n",
            "235/235 [==============================] - 4s 15ms/step - loss: 0.0859 - val_loss: 0.0854\n",
            "Epoch 49/50\n",
            "235/235 [==============================] - 4s 15ms/step - loss: 0.0857 - val_loss: 0.0854\n",
            "Epoch 50/50\n",
            "235/235 [==============================] - 5s 20ms/step - loss: 0.0855 - val_loss: 0.0851\n"
          ]
        },
        {
          "output_type": "execute_result",
          "data": {
            "text/plain": [
              "<keras.src.callbacks.History at 0x787ba5c04eb0>"
            ]
          },
          "metadata": {},
          "execution_count": 11
        }
      ]
    },
    {
      "cell_type": "code",
      "source": [
        "# encode and decode some digits\n",
        "# note that we take them from the *test* set\n",
        "encoded_imgs = encoder.predict(x_test)\n",
        "decoded_imgs = decoder.predict(encoded_imgs)"
      ],
      "metadata": {
        "colab": {
          "base_uri": "https://localhost:8080/"
        },
        "id": "NKK5C_rlcNDl",
        "outputId": "b7924f94-5cee-429e-fcf1-38fcc05976af"
      },
      "execution_count": 12,
      "outputs": [
        {
          "output_type": "stream",
          "name": "stdout",
          "text": [
            "313/313 [==============================] - 2s 3ms/step\n",
            "313/313 [==============================] - 1s 3ms/step\n"
          ]
        }
      ]
    },
    {
      "cell_type": "code",
      "source": [
        "# use Matplotlib (don't ask)\n",
        "import matplotlib.pyplot as plt\n",
        "\n",
        "n = 10  # how many digits we will display\n",
        "plt.figure(figsize=(20, 4))\n",
        "for i in range(n):\n",
        "    # display original\n",
        "    ax = plt.subplot(2, n, i + 1)\n",
        "    plt.imshow(x_test[i].reshape(28, 28))\n",
        "    plt.gray()\n",
        "    ax.get_xaxis().set_visible(False)\n",
        "    ax.get_yaxis().set_visible(False)\n",
        "\n",
        "    # display reconstruction\n",
        "    ax = plt.subplot(2, n, i + 1 + n)\n",
        "    plt.imshow(decoded_imgs[i].reshape(28, 28))\n",
        "    plt.gray()\n",
        "    ax.get_xaxis().set_visible(False)\n",
        "    ax.get_yaxis().set_visible(False)\n",
        "plt.show()"
      ],
      "metadata": {
        "colab": {
          "base_uri": "https://localhost:8080/",
          "height": 252
        },
        "id": "ZQA_n46BcI47",
        "outputId": "7e262acf-3721-40d1-f723-79b564988b78"
      },
      "execution_count": 13,
      "outputs": [
        {
          "output_type": "display_data",
          "data": {
            "text/plain": [
              "<Figure size 2000x400 with 20 Axes>"
            ],
            "image/png": "[encoded data removed]"
          },
          "metadata": {}
        }
      ]
    }
  ]
}